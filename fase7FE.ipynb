{
 "cells": [
  {
   "cell_type": "markdown",
   "id": "85a6d59e-9432-45ec-9928-c12d76be9238",
   "metadata": {},
   "source": [
    "# Fase 7 EDR: Signal Feature extraction\n",
    " \n",
    "Al fin y al cabo lo que estamos buscando es eficiencia en los aterrzajes. Podemos analizar partes de la `serie temporal` que es cada experimento, y sacar variables significativas, como cuanta desviación hay en el eje x, velocidad en el momento del aterrizaje, etc.\n",
    " \n",
    "Atributos a implementar:\n",
    "\n",
    "1. No sean extremadamente largos\n",
    "2. Si acaso consiguen terminar aterrizar\n",
    "3. Tengan poca variabilidad en el eje x (calcular la variación de X sobre la posición inicial que es cero)\n",
    "4. Si queremos tener un un aterrizaje eficiente, tenemos que ver cual es el uso del booster, porque cuanto menos se use mejor:\n",
    "    * Uso medio del booster\n",
    "    * Varianza del booster\n",
    "5. La posición de Y debe terminar en cero\n",
    "6. La velocidad angular debe terminar en cero\n",
    "7. Analizar la posición de la nave respecto a x antes y después del aterrizaje. Cualquier variación tras haber tocado el suelo probablemente implica baja eficiencia. La idea es mantenerse en 0 o alcanzar esa posición antes de tocar el suelo.\n",
    "8. En el caso de posiciones de x con comportaminetos extraños, quizá podemos reconstruir los cambios de posición usando la velocidad y un ODE. (La velocidad es la derivada de la función de la posición)\n",
    "9. Utilizar los outputs de `getLandedExperiments.py` para crear una variable que indique si el experimento ha aterrizado correctamente o no.\n",
    "10. <span style=\"color:red\">Dudoso:</span> Suavidad en las funciones de aceleración\n",
    "\n",
    "## Cosas que estudiar\n",
    "\n",
    "* Ver cómo acaban los experimentos que no aterrizan\n",
    "* Mejorar la smooth function, cuando la Y no cae drásticamente a 0 pero sí a un numero cercano, no se corrige el valor.\n",
    "\n",
    "### Implementaciones\n",
    "#### 1. No sean extremadamente largos\n",
    "Para poder evaluar esto, tenemos que ver los boxplots the cada uno de los experimentos, y sería buena idea que los separasemos por si son capaces de aterrizar o no.\n",
    "Vamos a sacar si han aterrizado o no usando `fileAggregator.py` y la función `expLanded` de `f7utils.py`."
   ]
  },
  {
   "cell_type": "code",
   "execution_count": 7,
   "id": "4293cff9-72c6-45fe-b773-13a3c16b885c",
   "metadata": {
    "vscode": {
     "languageId": "r"
    }
   },
   "outputs": [],
   "source": [
    "library(dplyr)\n",
    "library(ggplot2)"
   ]
  },
  {
   "cell_type": "code",
   "execution_count": 8,
   "id": "1ee67ae9-ee4a-4171-8476-357cf05dce47",
   "metadata": {
    "vscode": {
     "languageId": "r"
    }
   },
   "outputs": [
    {
     "data": {
      "text/html": [
       "<table class=\"dataframe\">\n",
       "<caption>A data.frame: 6 × 7</caption>\n",
       "<thead>\n",
       "\t<tr><th></th><th scope=col>filename</th><th scope=col>total_timesteps</th><th scope=col>gravity</th><th scope=col>wind_power</th><th scope=col>turbulence_power</th><th scope=col>efficiency</th><th scope=col>lands</th></tr>\n",
       "\t<tr><th></th><th scope=col>&lt;chr&gt;</th><th scope=col>&lt;int&gt;</th><th scope=col>&lt;dbl&gt;</th><th scope=col>&lt;dbl&gt;</th><th scope=col>&lt;dbl&gt;</th><th scope=col>&lt;dbl&gt;</th><th scope=col>&lt;fct&gt;</th></tr>\n",
       "</thead>\n",
       "<tbody>\n",
       "\t<tr><th scope=row>1</th><td>experiment_1.csv</td><td>185</td><td>-5,375066</td><td>14,337393</td><td>1,9027891</td><td>415,69</td><td>1</td></tr>\n",
       "\t<tr><th scope=row>2</th><td>experiment_2.csv</td><td>428</td><td>-3,958084</td><td>16,376438</td><td>1,6979323</td><td>104,37</td><td>1</td></tr>\n",
       "\t<tr><th scope=row>3</th><td>experiment_4.csv</td><td>193</td><td>-3,640152</td><td> 1,614948</td><td>0,1922136</td><td>411,14</td><td>1</td></tr>\n",
       "\t<tr><th scope=row>4</th><td>experiment_5.csv</td><td>166</td><td> 0,000000</td><td> 0,000000</td><td>0,2421779</td><td>414,93</td><td>1</td></tr>\n",
       "\t<tr><th scope=row>5</th><td>experiment_6.csv</td><td>172</td><td>-5,289123</td><td>15,771525</td><td>1,4538064</td><td>373,85</td><td>1</td></tr>\n",
       "\t<tr><th scope=row>6</th><td>experiment_7.csv</td><td>166</td><td>-7,079790</td><td>16,413726</td><td>0,9369702</td><td>415,83</td><td>1</td></tr>\n",
       "</tbody>\n",
       "</table>\n"
      ],
      "text/latex": [
       "A data.frame: 6 × 7\n",
       "\\begin{tabular}{r|lllllll}\n",
       "  & filename & total\\_timesteps & gravity & wind\\_power & turbulence\\_power & efficiency & lands\\\\\n",
       "  & <chr> & <int> & <dbl> & <dbl> & <dbl> & <dbl> & <fct>\\\\\n",
       "\\hline\n",
       "\t1 & experiment\\_1.csv & 185 & -5,375066 & 14,337393 & 1,9027891 & 415,69 & 1\\\\\n",
       "\t2 & experiment\\_2.csv & 428 & -3,958084 & 16,376438 & 1,6979323 & 104,37 & 1\\\\\n",
       "\t3 & experiment\\_4.csv & 193 & -3,640152 &  1,614948 & 0,1922136 & 411,14 & 1\\\\\n",
       "\t4 & experiment\\_5.csv & 166 &  0,000000 &  0,000000 & 0,2421779 & 414,93 & 1\\\\\n",
       "\t5 & experiment\\_6.csv & 172 & -5,289123 & 15,771525 & 1,4538064 & 373,85 & 1\\\\\n",
       "\t6 & experiment\\_7.csv & 166 & -7,079790 & 16,413726 & 0,9369702 & 415,83 & 1\\\\\n",
       "\\end{tabular}\n"
      ],
      "text/markdown": [
       "\n",
       "A data.frame: 6 × 7\n",
       "\n",
       "| <!--/--> | filename &lt;chr&gt; | total_timesteps &lt;int&gt; | gravity &lt;dbl&gt; | wind_power &lt;dbl&gt; | turbulence_power &lt;dbl&gt; | efficiency &lt;dbl&gt; | lands &lt;fct&gt; |\n",
       "|---|---|---|---|---|---|---|---|\n",
       "| 1 | experiment_1.csv | 185 | -5,375066 | 14,337393 | 1,9027891 | 415,69 | 1 |\n",
       "| 2 | experiment_2.csv | 428 | -3,958084 | 16,376438 | 1,6979323 | 104,37 | 1 |\n",
       "| 3 | experiment_4.csv | 193 | -3,640152 |  1,614948 | 0,1922136 | 411,14 | 1 |\n",
       "| 4 | experiment_5.csv | 166 |  0,000000 |  0,000000 | 0,2421779 | 414,93 | 1 |\n",
       "| 5 | experiment_6.csv | 172 | -5,289123 | 15,771525 | 1,4538064 | 373,85 | 1 |\n",
       "| 6 | experiment_7.csv | 166 | -7,079790 | 16,413726 | 0,9369702 | 415,83 | 1 |\n",
       "\n"
      ],
      "text/plain": [
       "  filename         total_timesteps gravity   wind_power turbulence_power\n",
       "1 experiment_1.csv 185             -5,375066 14,337393  1,9027891       \n",
       "2 experiment_2.csv 428             -3,958084 16,376438  1,6979323       \n",
       "3 experiment_4.csv 193             -3,640152  1,614948  0,1922136       \n",
       "4 experiment_5.csv 166              0,000000  0,000000  0,2421779       \n",
       "5 experiment_6.csv 172             -5,289123 15,771525  1,4538064       \n",
       "6 experiment_7.csv 166             -7,079790 16,413726  0,9369702       \n",
       "  efficiency lands\n",
       "1 415,69     1    \n",
       "2 104,37     1    \n",
       "3 411,14     1    \n",
       "4 414,93     1    \n",
       "5 373,85     1    \n",
       "6 415,83     1    "
      ]
     },
     "metadata": {},
     "output_type": "display_data"
    }
   ],
   "source": [
    "#Remove the duplicate index variable\n",
    "summarylanded <- read.csv(file = \"data/CheckLandingV2.csv\") %>% select(-X)\n",
    "summarylanded$lands <- as.factor(summarylanded$lands)\n",
    "head(summarylanded)"
   ]
  },
  {
   "cell_type": "code",
   "execution_count": 30,
   "id": "1b266b3f-0728-4491-b63a-c8b8de8618d6",
   "metadata": {
    "vscode": {
     "languageId": "r"
    }
   },
   "outputs": [
    {
     "data": {
      "text/html": [
       "587"
      ],
      "text/latex": [
       "587"
      ],
      "text/markdown": [
       "587"
      ],
      "text/plain": [
       "[1] 587"
      ]
     },
     "metadata": {},
     "output_type": "display_data"
    },
    {
     "data": {
      "text/html": [
       "9513"
      ],
      "text/latex": [
       "9513"
      ],
      "text/markdown": [
       "9513"
      ],
      "text/plain": [
       "[1] 9513"
      ]
     },
     "metadata": {},
     "output_type": "display_data"
    }
   ],
   "source": [
    "# how many in the training set didn't land?\n",
    "length(which(summarylanded$lands == 0))\n",
    "nrow(summarylanded)"
   ]
  },
  {
   "cell_type": "code",
   "execution_count": 22,
   "id": "b96bb1cb-5e82-47bb-9b3a-e0ffc7ff973c",
   "metadata": {
    "vscode": {
     "languageId": "r"
    }
   },
   "outputs": [
    {
     "name": "stderr",
     "output_type": "stream",
     "text": [
      "`stat_bin()` using `bins = 30`. Pick better value with `binwidth`.\n",
      "\n"
     ]
    },
    {
     "data": {
      "image/png": "[encoded data removed]",
      "text/plain": [
       "plot without title"
      ]
     },
     "metadata": {
      "image/png": {
       "height": 420,
       "width": 420
      }
     },
     "output_type": "display_data"
    },
    {
     "data": {
      "image/png": "[encoded data removed]",
      "text/plain": [
       "plot without title"
      ]
     },
     "metadata": {
      "image/png": {
       "height": 420,
       "width": 420
      }
     },
     "output_type": "display_data"
    }
   ],
   "source": [
    "summarylandedbp <- summarylanded\n",
    "levels(summarylandedbp$lands) <- c(\"Not Landed\", \"Landed\")\n",
    "\n",
    "ggplot(summarylandedbp) + aes(y = total_timesteps) +\n",
    "    geom_boxplot() + facet_wrap(.~lands) + theme_minimal() +\n",
    "    theme(legend.position = \"bottom\") +\n",
    "    labs(title = \"Length of the experiments\", y = \"timesteps\")\n",
    "\n",
    "ggplot(summarylandedbp) + aes(x = total_timesteps) + geom_histogram() + \n",
    "    facet_wrap(.~lands) + theme_minimal() +\n",
    "    theme(legend.position = \"bottom\") +\n",
    "    labs(title = \"Length of the experiments\", y = \"timesteps\")"
   ]
  },
  {
   "cell_type": "markdown",
   "id": "5c13bf44",
   "metadata": {},
   "source": [
    "Como tenemos un problema con los outliers de los casos en los que la nave aterriza en el training set, vamos a hacer primero una comparativa con el testing set para ver si es significante."
   ]
  },
  {
   "cell_type": "code",
   "execution_count": 18,
   "id": "8105e8ce",
   "metadata": {
    "vscode": {
     "languageId": "r"
    }
   },
   "outputs": [
    {
     "data": {
      "text/html": [
       "<table class=\"dataframe\">\n",
       "<caption>A data.frame: 6 × 6</caption>\n",
       "<thead>\n",
       "\t<tr><th></th><th scope=col>filename</th><th scope=col>total_timesteps</th><th scope=col>gravity</th><th scope=col>wind_power</th><th scope=col>turbulence_power</th><th scope=col>lands</th></tr>\n",
       "\t<tr><th></th><th scope=col>&lt;chr&gt;</th><th scope=col>&lt;int&gt;</th><th scope=col>&lt;dbl&gt;</th><th scope=col>&lt;dbl&gt;</th><th scope=col>&lt;dbl&gt;</th><th scope=col>&lt;fct&gt;</th></tr>\n",
       "</thead>\n",
       "<tbody>\n",
       "\t<tr><th scope=row>1</th><td>experiment_0.csv </td><td>156</td><td>-10,363594</td><td> 9,555678</td><td>0,4416887</td><td>1</td></tr>\n",
       "\t<tr><th scope=row>2</th><td>experiment_3.csv </td><td>252</td><td> -2,599651</td><td> 7,094931</td><td>0,7720043</td><td>1</td></tr>\n",
       "\t<tr><th scope=row>3</th><td>experiment_8.csv </td><td>146</td><td>-10,768399</td><td> 5,744031</td><td>0,8987043</td><td>1</td></tr>\n",
       "\t<tr><th scope=row>4</th><td>experiment_10.csv</td><td>178</td><td> -7,815608</td><td>19,640269</td><td>1,6313483</td><td>1</td></tr>\n",
       "\t<tr><th scope=row>5</th><td>experiment_14.csv</td><td>193</td><td> -3,833533</td><td>11,007721</td><td>1,5779704</td><td>1</td></tr>\n",
       "\t<tr><th scope=row>6</th><td>experiment_19.csv</td><td>204</td><td> -3,464858</td><td> 0,000000</td><td>1,1071370</td><td>1</td></tr>\n",
       "</tbody>\n",
       "</table>\n"
      ],
      "text/latex": [
       "A data.frame: 6 × 6\n",
       "\\begin{tabular}{r|llllll}\n",
       "  & filename & total\\_timesteps & gravity & wind\\_power & turbulence\\_power & lands\\\\\n",
       "  & <chr> & <int> & <dbl> & <dbl> & <dbl> & <fct>\\\\\n",
       "\\hline\n",
       "\t1 & experiment\\_0.csv  & 156 & -10,363594 &  9,555678 & 0,4416887 & 1\\\\\n",
       "\t2 & experiment\\_3.csv  & 252 &  -2,599651 &  7,094931 & 0,7720043 & 1\\\\\n",
       "\t3 & experiment\\_8.csv  & 146 & -10,768399 &  5,744031 & 0,8987043 & 1\\\\\n",
       "\t4 & experiment\\_10.csv & 178 &  -7,815608 & 19,640269 & 1,6313483 & 1\\\\\n",
       "\t5 & experiment\\_14.csv & 193 &  -3,833533 & 11,007721 & 1,5779704 & 1\\\\\n",
       "\t6 & experiment\\_19.csv & 204 &  -3,464858 &  0,000000 & 1,1071370 & 1\\\\\n",
       "\\end{tabular}\n"
      ],
      "text/markdown": [
       "\n",
       "A data.frame: 6 × 6\n",
       "\n",
       "| <!--/--> | filename &lt;chr&gt; | total_timesteps &lt;int&gt; | gravity &lt;dbl&gt; | wind_power &lt;dbl&gt; | turbulence_power &lt;dbl&gt; | lands &lt;fct&gt; |\n",
       "|---|---|---|---|---|---|---|\n",
       "| 1 | experiment_0.csv  | 156 | -10,363594 |  9,555678 | 0,4416887 | 1 |\n",
       "| 2 | experiment_3.csv  | 252 |  -2,599651 |  7,094931 | 0,7720043 | 1 |\n",
       "| 3 | experiment_8.csv  | 146 | -10,768399 |  5,744031 | 0,8987043 | 1 |\n",
       "| 4 | experiment_10.csv | 178 |  -7,815608 | 19,640269 | 1,6313483 | 1 |\n",
       "| 5 | experiment_14.csv | 193 |  -3,833533 | 11,007721 | 1,5779704 | 1 |\n",
       "| 6 | experiment_19.csv | 204 |  -3,464858 |  0,000000 | 1,1071370 | 1 |\n",
       "\n"
      ],
      "text/plain": [
       "  filename          total_timesteps gravity    wind_power turbulence_power\n",
       "1 experiment_0.csv  156             -10,363594  9,555678  0,4416887       \n",
       "2 experiment_3.csv  252              -2,599651  7,094931  0,7720043       \n",
       "3 experiment_8.csv  146             -10,768399  5,744031  0,8987043       \n",
       "4 experiment_10.csv 178              -7,815608 19,640269  1,6313483       \n",
       "5 experiment_14.csv 193              -3,833533 11,007721  1,5779704       \n",
       "6 experiment_19.csv 204              -3,464858  0,000000  1,1071370       \n",
       "  lands\n",
       "1 1    \n",
       "2 1    \n",
       "3 1    \n",
       "4 1    \n",
       "5 1    \n",
       "6 1    "
      ]
     },
     "metadata": {},
     "output_type": "display_data"
    }
   ],
   "source": [
    "summarylandedtesting <- read.csv(file = \"data/CheckLandingV2test.csv\") %>% select(-X)\n",
    "summarylandedtesting$lands <- as.factor(summarylandedtesting$lands)#Remove the duplicate index variable\n",
    "head(summarylandedtesting)"
   ]
  },
  {
   "cell_type": "code",
   "execution_count": 28,
   "id": "1dd62757-230e-4452-ace5-96ab471b1685",
   "metadata": {
    "vscode": {
     "languageId": "r"
    }
   },
   "outputs": [
    {
     "data": {
      "text/html": [
       "128"
      ],
      "text/latex": [
       "128"
      ],
      "text/markdown": [
       "128"
      ],
      "text/plain": [
       "[1] 128"
      ]
     },
     "metadata": {},
     "output_type": "display_data"
    },
    {
     "data": {
      "text/html": [
       "2000"
      ],
      "text/latex": [
       "2000"
      ],
      "text/markdown": [
       "2000"
      ],
      "text/plain": [
       "[1] 2000"
      ]
     },
     "metadata": {},
     "output_type": "display_data"
    }
   ],
   "source": [
    "# how many in the testing set didn't land?\n",
    "length(which(summarylandedtesting$lands == 0))\n",
    "nrow(summarylandedtesting)"
   ]
  },
  {
   "cell_type": "code",
   "execution_count": 19,
   "id": "713404f9",
   "metadata": {
    "vscode": {
     "languageId": "r"
    }
   },
   "outputs": [
    {
     "data": {
      "image/png": "[encoded data removed]",
      "text/plain": [
       "plot without title"
      ]
     },
     "metadata": {
      "image/png": {
       "height": 420,
       "width": 420
      }
     },
     "output_type": "display_data"
    }
   ],
   "source": [
    "summarylandedbptesting <- summarylandedtesting\n",
    "levels(summarylandedbptesting$lands) <- c(\"Not Landed\", \"Landed\")\n",
    "\n",
    "ggplot(summarylandedbptesting) + aes(y = total_timesteps) +\n",
    "    geom_boxplot() + facet_wrap(.~lands) + theme_minimal() +\n",
    "    theme(legend.position = \"bottom\") +\n",
    "    labs(title = \"Length of the experiments in the testing set\", y = \"timesteps\")"
   ]
  },
  {
   "cell_type": "markdown",
   "id": "ddd6ce0e",
   "metadata": {},
   "source": [
    "Como podemos ver, la distribucion de ambos train and test sets para los timesteps, es muy parecida, por no decir idéntica, si la diferencia de experimentos entre uno y otro fuera menor. Los boxplots reflejan claramente como tanto los outliers como los no outliers son exactamente iguales en distribución en la comparacion entre training y testing, por lo que debemos tener mucho cuidado a la hora de borrar outliers."
   ]
  },
  {
   "cell_type": "markdown",
   "id": "0d2d3edc-eded-4bd4-9d69-62f3ac6e9a18",
   "metadata": {},
   "source": [
    "#### Efficiency distributed by landings"
   ]
  },
  {
   "cell_type": "code",
   "execution_count": 33,
   "id": "28376716-6144-4d7f-8cc3-90ead6220364",
   "metadata": {
    "vscode": {
     "languageId": "r"
    }
   },
   "outputs": [
    {
     "data": {
      "image/png": "[encoded data removed]",
      "text/plain": [
       "plot without title"
      ]
     },
     "metadata": {
      "image/png": {
       "height": 420,
       "width": 420
      }
     },
     "output_type": "display_data"
    }
   ],
   "source": [
    "ggplot(summarylandedbp) + aes(x = efficiency) + geom_histogram(bins = 120) + \n",
    "    facet_wrap(.~lands) + theme_minimal() +\n",
    "    theme(legend.position = \"bottom\") +\n",
    "    labs(title = \"Efficiency of the experiments\", y = \"count\")"
   ]
  },
  {
   "cell_type": "markdown",
   "id": "6d5924bc",
   "metadata": {},
   "source": [
    "#### Experimento 6\n",
    "Podemos notar algo extraño en el experimento 6, en el sentido de que tiene una buena marca de eficiencia, pero al parecer no aterriza. \n",
    "\n",
    "Vamos a utilizar la función de python `PlotExperiment` para analizar el experimento 6. Para poder usar código de python dentro de R necesitaremos la librería `reticiulate`."
   ]
  },
  {
   "cell_type": "code",
   "execution_count": 5,
   "id": "23843fe4",
   "metadata": {
    "vscode": {
     "languageId": "r"
    }
   },
   "outputs": [
    {
     "name": "stderr",
     "output_type": "stream",
     "text": [
      "Loading required package: reticulate\n",
      "\n"
     ]
    }
   ],
   "source": [
    "if (!require(\"reticulate\")){\n",
    "    install.packages(\"reticulate\")\n",
    "    library(reticulate)\n",
    "} else {\n",
    "    library(reticulate)\n",
    "}"
   ]
  },
  {
   "cell_type": "code",
   "execution_count": null,
   "id": "4e6c1f13",
   "metadata": {
    "vscode": {
     "languageId": "r"
    }
   },
   "outputs": [],
   "source": [
    "py_run_string('import pandas as pd')\n",
    "py_run_string('from f7utils import smoothY_pos,plotExperiment')\n",
    "py_run_string('exp6 = smoothY_pos(pd.read_csv(\"data/train/experiment_6.csv\"))')\n",
    "py_run_string(\"plotExperiment(exp6)\")"
   ]
  },
  {
   "cell_type": "markdown",
   "id": "e3e16a36",
   "metadata": {},
   "source": [
    "Como podemos ver, deberíamos también analizar si un experimento ha aterrizado por el hecho de si se quedan ambas `y_vel` y `ang_vel` estables en 0"
   ]
  },
  {
   "cell_type": "code",
   "execution_count": null,
   "id": "96a84bd1-aa1f-463b-bbab-54912e76da50",
   "metadata": {
    "vscode": {
     "languageId": "r"
    }
   },
   "outputs": [],
   "source": [
    "exp6 = read.csv(file = \"data/train/experiment_6.csv\")\n",
    "tail(exp6)"
   ]
  },
  {
   "cell_type": "markdown",
   "id": "a03b6066",
   "metadata": {},
   "source": [
    "## Linear regressions\n",
    "To test the significance of the variables:"
   ]
  },
  {
   "cell_type": "code",
   "execution_count": 14,
   "id": "323be8c8",
   "metadata": {
    "vscode": {
     "languageId": "r"
    }
   },
   "outputs": [],
   "source": [
    "summarylandedlm <- summarylanded %>% select(-filename)\n",
    "\n",
    "mod1 <- lm(data = summarylandedlm, efficiency ~ (.)^2 )\n",
    "\n",
    "modGood <- lm(data = summarylandedlm,\n",
    "              efficiency ~ total_timesteps + \n",
    "              wind_power + lands +\n",
    "              total_timesteps * gravity + total_timesteps * wind_power +\n",
    "              total_timesteps * turbulence_power + total_timesteps * lands +\n",
    "              gravity * lands + wind_power * wind_power*lands + turbulence_power*lands\n",
    ")"
   ]
  },
  {
   "cell_type": "code",
   "execution_count": 16,
   "id": "730e46d1",
   "metadata": {
    "vscode": {
     "languageId": "r"
    }
   },
   "outputs": [
    {
     "name": "stderr",
     "output_type": "stream",
     "text": [
      "Warning message in printCoefmat(coefs, digits = digits, signif.stars = signif.stars, :\n",
      "“NAs introduced by coercion”\n"
     ]
    },
    {
     "data": {
      "text/plain": [
       "\n",
       "Call:\n",
       "lm(formula = efficiency ~ total_timesteps + wind_power + lands + \n",
       "    total_timesteps * gravity + total_timesteps * wind_power + \n",
       "    total_timesteps * turbulence_power + total_timesteps * lands + \n",
       "    gravity * lands + wind_power * wind_power * lands + turbulence_power * \n",
       "    lands, data = summarylandedlm)\n",
       "\n",
       "Residuals:\n",
       "    Min      1Q  Median      3Q     Max \n",
       "-3838,6    -0,4     7,7    13,6   870,6 \n",
       "\n",
       "Coefficients:\n",
       "                                   Estimate Std. Error t value Pr(>|t|)    \n",
       "(Intercept)                      237,653195  27,997312   8,488  < 2e-16 ***\n",
       "total_timesteps                   -0,818495   0,056740 -14,425  < 2e-16 ***\n",
       "wind_power                        -5,156118   1,086400  -4,746 2,10e-06 ***\n",
       "lands1                           177,647480  27,282503   6,511 7,82e-11 ***\n",
       "gravity                           -2,711672   1,970046  -1,376   0,1687    \n",
       "turbulence_power                 -93,448393  12,277653  -7,611 2,97e-14 ***\n",
       "total_timesteps:gravity           -0,032545   0,006091  -5,343 9,36e-08 ***\n",
       "total_timesteps:wind_power        -0,009895   0,002037  -4,858 1,20e-06 ***\n",
       "total_timesteps:turbulence_power  -0,052846   0,023051  -2,293   0,0219 *  \n",
       "total_timesteps:lands1             0,790642   0,046696  16,932  < 2e-16 ***\n",
       "lands1:gravity                     8,860058   1,969923   4,498 6,95e-06 ***\n",
       "wind_power:lands1                  6,716919   1,013633   6,627 3,62e-11 ***\n",
       "lands1:turbulence_power          100,075192  11,234315   8,908  < 2e-16 ***\n",
       "---\n",
       "Signif. codes:  0 ‘***’ 0,001 ‘**’ 0,01 ‘*’ 0,05 ‘.’ 0,1 ‘ ’ 1\n",
       "\n",
       "Residual standard error: 148 on 9500 degrees of freedom\n",
       "Multiple R-squared:  0,4595,\tAdjusted R-squared:  0,4589 \n",
       "F-statistic: 673,1 on 12 and 9500 DF,  p-value: < 2,2e-16\n"
      ]
     },
     "metadata": {},
     "output_type": "display_data"
    }
   ],
   "source": [
    "summary(modGood)"
   ]
  },
  {
   "cell_type": "markdown",
   "id": "17e64f32-9d53-47c5-a89a-bce7f3504f14",
   "metadata": {
    "vscode": {
     "languageId": "r"
    }
   },
   "source": [
    "```python\n",
    "def stdXdeviation(exp: pd.DataFrame) -> NDArray:\n",
    "    var = sum(exp.x_pos**2)/(exp.shape[0]-1)\n",
    "    return np.sqrt(var)\n",
    "```"
   ]
  }
 ],
 "metadata": {
  "interpreter": {
   "hash": "e7370f93d1d0cde622a1f8e1c04877d8463912d04d973331ad4851f04de6915a"
  },
  "kernelspec": {
   "display_name": "R",
   "language": "R",
   "name": "ir"
  },
  "language_info": {
   "codemirror_mode": "r",
   "file_extension": ".r",
   "mimetype": "text/x-r-source",
   "name": "R",
   "pygments_lexer": "r",
   "version": "4.1.3"
  }
 },
 "nbformat": 4,
 "nbformat_minor": 5
}
