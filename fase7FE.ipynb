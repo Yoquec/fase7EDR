{
 "cells": [
  {
   "cell_type": "markdown",
   "id": "85a6d59e-9432-45ec-9928-c12d76be9238",
   "metadata": {},
   "source": [
    "# Fase 7 EDR: Signal Feature extraction\n",
    " \n",
    "Al fin y al cabo lo que estamos buscando es eficiencia en los aterrzajes. Podemos analizar partes de la `serie temporal` que es cada experimento, y sacar variables significativas, como cuanta desviación hay en el eje x, velocidad en el momento del aterrizaje, etc.\n",
    " \n",
    "Atributos a implementar:\n",
    "\n",
    "1. No sean extremadamente largos\n",
    "2. Tengan poca variabilidad en el eje x (calcular la variación de X sobre la posición inicial que es cero)\n",
    "3. La posición de Y debe terminar en cero\n",
    "4. Las \n",
    "5. Analizar la posición de la nave respecto a x antes y después del aterrizaje. Cualquier variación tras haber tocado el suelo probablemente implica baja eficiencia. La idea es mantenerse en 0 o alcanzar esa posición antes de tocar el suelo.\n",
    "6. En el caso de posiciones de x con comportaminetos extraños, quizá podemos reconstruir los cambios de posición usando la velocidad y un ODE. (La velocidad es la derivada de la función de la posición)\n",
    "7. Utilizar los outputs de `getLandedExperiments.py` para crear una variable que indique si el experimento ha aterrizado correctamente o no.\n",
    "8. <span style=\"color:red\">Dudoso:</span> Suavidad en las funciones de aceleración\n",
    "\n",
    "## Cosas que estudiar\n",
    "\n",
    "Mejorar la smooth function, cuando la Y no cae drásticamente a 0 pero sí a un numero cercano, no se corrige el valor.\n",
    "\n",
    "### Implementaciones"
   ]
  },
  {
   "cell_type": "code",
   "execution_count": null,
   "id": "644bb121",
   "metadata": {},
   "outputs": [],
   "source": [
    "def stdXdeviation(exp: pd.DataFrame) -> NDArray:\n",
    "    var = sum(exp.x_pos**2)/(exp.shape[0]-1)\n",
    "    return np.sqrt(var)"
   ]
  }
 ],
 "metadata": {
  "interpreter": {
   "hash": "e7370f93d1d0cde622a1f8e1c04877d8463912d04d973331ad4851f04de6915a"
  },
  "kernelspec": {
   "display_name": "Python 3.10.5 64-bit",
   "language": "python",
   "name": "python3"
  },
  "language_info": {
   "codemirror_mode": {
    "name": "ipython",
    "version": 3
   },
   "file_extension": ".py",
   "mimetype": "text/x-python",
   "name": "python",
   "nbconvert_exporter": "python",
   "pygments_lexer": "ipython3",
   "version": "3.10.5"
  }
 },
 "nbformat": 4,
 "nbformat_minor": 5
}
