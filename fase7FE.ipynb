{
 "cells": [
  {
   "cell_type": "markdown",
   "id": "85a6d59e-9432-45ec-9928-c12d76be9238",
   "metadata": {},
   "source": [
    "# Fase 7 EDR: Signal Feature extraction\n",
    " \n",
    "Al fin y al cabo lo que estamos buscando es eficiencia en los aterrzajes. Podemos analizar partes de la `serie temporal` que es cada experimento, y sacar variables significativas, como cuanta desviación hay en el eje x, velocidad en el momento del aterrizaje, etc.\n",
    " \n",
    "Atributos a implementar:\n",
    "\n",
    "1. <span style=\"color:green\">No es necesario:</span>No sean extremadamente largos\n",
    "2. (Viejo) Si acaso consiguen terminar aterrizar y si rebotan\n",
    "3. (terminar): Tengan poca variabilidad en el eje x (calcular la variación de X sobre la posición inicial que es cero)\n",
    "4. Si queremos tener un un aterrizaje eficiente, tenemos que ver cual es el uso del booster, porque cuanto menos se use mejor:\n",
    "    * Uso medio del booster\n",
    "    * Varianza del booster\n",
    "5. (Hecho)Varianza y media de la velocidad angular\n",
    "6. (Hecho)La posición de Y debe terminar en cero (valor medio de los últimos instantes de Y)\n",
    "7. (Hecho)La velocidad angular debe terminar en cero (valor medio de los últimos instantes de la velocidad angular)\n",
    "8. Analizar la posición de la nave respecto a x antes y después del aterrizaje. Cualquier variación tras haber tocado el suelo probablemente implica baja eficiencia. La idea es mantenerse en 0 o alcanzar esa posición antes de tocar el suelo.\n",
    "9. En el caso de posiciones de x con comportaminetos extraños, quizá podemos reconstruir los cambios de posición usando la velocidad y un ODE. (La velocidad es la derivada de la función de la posición) [<span style=\"color:cyan\">Apunte:</span> Sólo nos importa la variación de X, lo que podemos hacer integrando]\n",
    "10. Utilizar los outputs de `getLandedExperiments.py` para crear una variable que indique si el experimento ha aterrizado correctamente o no.\n",
    "11. <span style=\"color:red\">Dudoso:</span> Suavidad en las funciones de aceleración\n",
    "\n",
    "## Cosas que estudiar\n",
    "\n",
    "* Ver cómo acaban los experimentos que no aterrizan\n",
    "* Mejorar la smooth function, cuando la Y no cae drásticamente a 0 pero sí a un numero cercano, no se corrige el valor.\n",
    "\n",
    "### Implementaciones\n",
    "#### 1. No sean extremadamente largos\n",
    "Para poder evaluar esto, tenemos que ver los boxplots the cada uno de los experimentos, y sería buena idea que los separasemos por si son capaces de aterrizar o no.\n",
    "Vamos a sacar si han aterrizado o no usando `fileAggregator.py` y la función `expLanded` de `f7utils.py`."
   ]
  },
  {
   "cell_type": "code",
   "execution_count": null,
   "id": "4293cff9-72c6-45fe-b773-13a3c16b885c",
   "metadata": {
    "vscode": {
     "languageId": "r"
    }
   },
   "outputs": [],
   "source": [
    "library(dplyr)\n",
    "library(ggplot2)"
   ]
  },
  {
   "cell_type": "code",
   "execution_count": 30,
   "id": "1ee67ae9-ee4a-4171-8476-357cf05dce47",
   "metadata": {
    "vscode": {
     "languageId": "r"
    }
   },
   "outputs": [
    {
     "data": {
      "text/html": [
       "<table class=\"dataframe\">\n",
       "<caption>A data.frame: 6 × 16</caption>\n",
       "<thead>\n",
       "\t<tr><th></th><th scope=col>filename</th><th scope=col>total_timesteps</th><th scope=col>gravity</th><th scope=col>wind_power</th><th scope=col>turbulence_power</th><th scope=col>efficiency</th><th scope=col>lands</th><th scope=col>landingPerc</th><th scope=col>nbounces</th><th scope=col>angVelMean</th><th scope=col>angVelVar</th><th scope=col>finalYmean</th><th scope=col>finalYvelMean</th><th scope=col>finalAng_velMean</th><th scope=col>mBoosterMean</th><th scope=col>mBoosterVar</th></tr>\n",
       "\t<tr><th></th><th scope=col>&lt;chr&gt;</th><th scope=col>&lt;int&gt;</th><th scope=col>&lt;dbl&gt;</th><th scope=col>&lt;dbl&gt;</th><th scope=col>&lt;dbl&gt;</th><th scope=col>&lt;dbl&gt;</th><th scope=col>&lt;fct&gt;</th><th scope=col>&lt;dbl&gt;</th><th scope=col>&lt;dbl&gt;</th><th scope=col>&lt;dbl&gt;</th><th scope=col>&lt;dbl&gt;</th><th scope=col>&lt;dbl&gt;</th><th scope=col>&lt;dbl&gt;</th><th scope=col>&lt;dbl&gt;</th><th scope=col>&lt;dbl&gt;</th><th scope=col>&lt;dbl&gt;</th></tr>\n",
       "</thead>\n",
       "<tbody>\n",
       "\t<tr><th scope=row>1</th><td>experiment_1.csv</td><td>185</td><td>-5,375066</td><td>14,337393</td><td>1,9027891</td><td>415,69</td><td>1</td><td>0,01408599</td><td>0</td><td> 0,0010759721</td><td>0,03220839</td><td>-7,820368e-05</td><td> 3,676812e-10</td><td>-5,961901e-05</td><td>-0,2466446</td><td>0,2565455</td></tr>\n",
       "\t<tr><th scope=row>2</th><td>experiment_2.csv</td><td>428</td><td>-3,958084</td><td>16,376438</td><td>1,6979323</td><td>104,37</td><td>1</td><td>0,02112898</td><td>3</td><td> 0,0963510133</td><td>0,09787787</td><td> 2,258354e-02</td><td>-1,086688e-01</td><td> 7,389720e-02</td><td>-0,2655977</td><td>0,2757078</td></tr>\n",
       "\t<tr><th scope=row>3</th><td>experiment_4.csv</td><td>193</td><td>-3,640152</td><td> 1,614948</td><td>0,1922136</td><td>411,14</td><td>1</td><td>0,01450646</td><td>0</td><td>-0,0002423267</td><td>0,00542839</td><td>-9,307528e-04</td><td> 5,258663e-11</td><td>-6,075876e-04</td><td>-0,3118868</td><td>0,2335856</td></tr>\n",
       "\t<tr><th scope=row>4</th><td>experiment_5.csv</td><td>166</td><td> 0,000000</td><td> 0,000000</td><td>0,2421779</td><td>414,93</td><td>1</td><td>0,01377063</td><td>0</td><td>-0,0008201633</td><td>0,03433285</td><td>-5,592145e-04</td><td>-1,160412e-09</td><td> 2,446833e-03</td><td>-0,1429032</td><td>0,3100201</td></tr>\n",
       "\t<tr><th scope=row>5</th><td>experiment_6.csv</td><td>172</td><td>-5,289123</td><td>15,771525</td><td>1,4538064</td><td>373,85</td><td>1</td><td>0,01471670</td><td>0</td><td>-0,0006702543</td><td>0,01419187</td><td>-5,106763e-04</td><td>-1,961436e-10</td><td> 4,466594e-03</td><td>-0,2123328</td><td>0,2653827</td></tr>\n",
       "\t<tr><th scope=row>6</th><td>experiment_7.csv</td><td>166</td><td>-7,079790</td><td>16,413726</td><td>0,9369702</td><td>415,83</td><td>1</td><td>0,01419111</td><td>1</td><td>-0,0004402284</td><td>0,05577933</td><td>-7,717527e-04</td><td> 2,220661e-10</td><td> 4,154155e-03</td><td>-0,1135715</td><td>0,2999449</td></tr>\n",
       "</tbody>\n",
       "</table>\n"
      ],
      "text/latex": [
       "A data.frame: 6 × 16\n",
       "\\begin{tabular}{r|llllllllllllllll}\n",
       "  & filename & total\\_timesteps & gravity & wind\\_power & turbulence\\_power & efficiency & lands & landingPerc & nbounces & angVelMean & angVelVar & finalYmean & finalYvelMean & finalAng\\_velMean & mBoosterMean & mBoosterVar\\\\\n",
       "  & <chr> & <int> & <dbl> & <dbl> & <dbl> & <dbl> & <fct> & <dbl> & <dbl> & <dbl> & <dbl> & <dbl> & <dbl> & <dbl> & <dbl> & <dbl>\\\\\n",
       "\\hline\n",
       "\t1 & experiment\\_1.csv & 185 & -5,375066 & 14,337393 & 1,9027891 & 415,69 & 1 & 0,01408599 & 0 &  0,0010759721 & 0,03220839 & -7,820368e-05 &  3,676812e-10 & -5,961901e-05 & -0,2466446 & 0,2565455\\\\\n",
       "\t2 & experiment\\_2.csv & 428 & -3,958084 & 16,376438 & 1,6979323 & 104,37 & 1 & 0,02112898 & 3 &  0,0963510133 & 0,09787787 &  2,258354e-02 & -1,086688e-01 &  7,389720e-02 & -0,2655977 & 0,2757078\\\\\n",
       "\t3 & experiment\\_4.csv & 193 & -3,640152 &  1,614948 & 0,1922136 & 411,14 & 1 & 0,01450646 & 0 & -0,0002423267 & 0,00542839 & -9,307528e-04 &  5,258663e-11 & -6,075876e-04 & -0,3118868 & 0,2335856\\\\\n",
       "\t4 & experiment\\_5.csv & 166 &  0,000000 &  0,000000 & 0,2421779 & 414,93 & 1 & 0,01377063 & 0 & -0,0008201633 & 0,03433285 & -5,592145e-04 & -1,160412e-09 &  2,446833e-03 & -0,1429032 & 0,3100201\\\\\n",
       "\t5 & experiment\\_6.csv & 172 & -5,289123 & 15,771525 & 1,4538064 & 373,85 & 1 & 0,01471670 & 0 & -0,0006702543 & 0,01419187 & -5,106763e-04 & -1,961436e-10 &  4,466594e-03 & -0,2123328 & 0,2653827\\\\\n",
       "\t6 & experiment\\_7.csv & 166 & -7,079790 & 16,413726 & 0,9369702 & 415,83 & 1 & 0,01419111 & 1 & -0,0004402284 & 0,05577933 & -7,717527e-04 &  2,220661e-10 &  4,154155e-03 & -0,1135715 & 0,2999449\\\\\n",
       "\\end{tabular}\n"
      ],
      "text/markdown": [
       "\n",
       "A data.frame: 6 × 16\n",
       "\n",
       "| <!--/--> | filename &lt;chr&gt; | total_timesteps &lt;int&gt; | gravity &lt;dbl&gt; | wind_power &lt;dbl&gt; | turbulence_power &lt;dbl&gt; | efficiency &lt;dbl&gt; | lands &lt;fct&gt; | landingPerc &lt;dbl&gt; | nbounces &lt;dbl&gt; | angVelMean &lt;dbl&gt; | angVelVar &lt;dbl&gt; | finalYmean &lt;dbl&gt; | finalYvelMean &lt;dbl&gt; | finalAng_velMean &lt;dbl&gt; | mBoosterMean &lt;dbl&gt; | mBoosterVar &lt;dbl&gt; |\n",
       "|---|---|---|---|---|---|---|---|---|---|---|---|---|---|---|---|---|\n",
       "| 1 | experiment_1.csv | 185 | -5,375066 | 14,337393 | 1,9027891 | 415,69 | 1 | 0,01408599 | 0 |  0,0010759721 | 0,03220839 | -7,820368e-05 |  3,676812e-10 | -5,961901e-05 | -0,2466446 | 0,2565455 |\n",
       "| 2 | experiment_2.csv | 428 | -3,958084 | 16,376438 | 1,6979323 | 104,37 | 1 | 0,02112898 | 3 |  0,0963510133 | 0,09787787 |  2,258354e-02 | -1,086688e-01 |  7,389720e-02 | -0,2655977 | 0,2757078 |\n",
       "| 3 | experiment_4.csv | 193 | -3,640152 |  1,614948 | 0,1922136 | 411,14 | 1 | 0,01450646 | 0 | -0,0002423267 | 0,00542839 | -9,307528e-04 |  5,258663e-11 | -6,075876e-04 | -0,3118868 | 0,2335856 |\n",
       "| 4 | experiment_5.csv | 166 |  0,000000 |  0,000000 | 0,2421779 | 414,93 | 1 | 0,01377063 | 0 | -0,0008201633 | 0,03433285 | -5,592145e-04 | -1,160412e-09 |  2,446833e-03 | -0,1429032 | 0,3100201 |\n",
       "| 5 | experiment_6.csv | 172 | -5,289123 | 15,771525 | 1,4538064 | 373,85 | 1 | 0,01471670 | 0 | -0,0006702543 | 0,01419187 | -5,106763e-04 | -1,961436e-10 |  4,466594e-03 | -0,2123328 | 0,2653827 |\n",
       "| 6 | experiment_7.csv | 166 | -7,079790 | 16,413726 | 0,9369702 | 415,83 | 1 | 0,01419111 | 1 | -0,0004402284 | 0,05577933 | -7,717527e-04 |  2,220661e-10 |  4,154155e-03 | -0,1135715 | 0,2999449 |\n",
       "\n"
      ],
      "text/plain": [
       "  filename         total_timesteps gravity   wind_power turbulence_power\n",
       "1 experiment_1.csv 185             -5,375066 14,337393  1,9027891       \n",
       "2 experiment_2.csv 428             -3,958084 16,376438  1,6979323       \n",
       "3 experiment_4.csv 193             -3,640152  1,614948  0,1922136       \n",
       "4 experiment_5.csv 166              0,000000  0,000000  0,2421779       \n",
       "5 experiment_6.csv 172             -5,289123 15,771525  1,4538064       \n",
       "6 experiment_7.csv 166             -7,079790 16,413726  0,9369702       \n",
       "  efficiency lands landingPerc nbounces angVelMean    angVelVar  finalYmean   \n",
       "1 415,69     1     0,01408599  0         0,0010759721 0,03220839 -7,820368e-05\n",
       "2 104,37     1     0,02112898  3         0,0963510133 0,09787787  2,258354e-02\n",
       "3 411,14     1     0,01450646  0        -0,0002423267 0,00542839 -9,307528e-04\n",
       "4 414,93     1     0,01377063  0        -0,0008201633 0,03433285 -5,592145e-04\n",
       "5 373,85     1     0,01471670  0        -0,0006702543 0,01419187 -5,106763e-04\n",
       "6 415,83     1     0,01419111  1        -0,0004402284 0,05577933 -7,717527e-04\n",
       "  finalYvelMean finalAng_velMean mBoosterMean mBoosterVar\n",
       "1  3,676812e-10 -5,961901e-05    -0,2466446   0,2565455  \n",
       "2 -1,086688e-01  7,389720e-02    -0,2655977   0,2757078  \n",
       "3  5,258663e-11 -6,075876e-04    -0,3118868   0,2335856  \n",
       "4 -1,160412e-09  2,446833e-03    -0,1429032   0,3100201  \n",
       "5 -1,961436e-10  4,466594e-03    -0,2123328   0,2653827  \n",
       "6  2,220661e-10  4,154155e-03    -0,1135715   0,2999449  "
      ]
     },
     "metadata": {},
     "output_type": "display_data"
    }
   ],
   "source": [
    "#Remove the duplicate index variable\n",
    "summarylanded <- read.csv(file = \"data/CheckLandingV3.csv\") %>% select(-X)\n",
    "summarylanded$lands <- as.factor(summarylanded$lands)\n",
    "head(summarylanded)"
   ]
  },
  {
   "cell_type": "code",
   "execution_count": null,
   "id": "1b266b3f-0728-4491-b63a-c8b8de8618d6",
   "metadata": {
    "vscode": {
     "languageId": "r"
    }
   },
   "outputs": [],
   "source": [
    "# how many in the training set didn't land?\n",
    "length(which(summarylanded$lands == 0))\n",
    "nrow(summarylanded)"
   ]
  },
  {
   "cell_type": "code",
   "execution_count": null,
   "id": "b96bb1cb-5e82-47bb-9b3a-e0ffc7ff973c",
   "metadata": {
    "vscode": {
     "languageId": "r"
    }
   },
   "outputs": [],
   "source": [
    "summarylandedbp <- summarylanded\n",
    "levels(summarylandedbp$lands) <- c(\"Not Landed\", \"Landed\")\n",
    "\n",
    "ggplot(summarylandedbp) + aes(y = total_timesteps) +\n",
    "    geom_boxplot() + facet_wrap(.~lands) + theme_minimal() +\n",
    "    theme(legend.position = \"bottom\") +\n",
    "    labs(title = \"Length of the experiments\", y = \"timesteps\")\n",
    "\n",
    "ggplot(summarylandedbp) + aes(x = total_timesteps) + geom_histogram() + \n",
    "    facet_wrap(.~lands) + theme_minimal() +\n",
    "    theme(legend.position = \"bottom\") +\n",
    "    labs(title = \"Length of the experiments\", y = \"timesteps\")"
   ]
  },
  {
   "cell_type": "markdown",
   "id": "5c13bf44",
   "metadata": {},
   "source": [
    "Como tenemos un problema con los outliers de los casos en los que la nave aterriza en el training set, vamos a hacer primero una comparativa con el testing set para ver si es significante."
   ]
  },
  {
   "cell_type": "code",
   "execution_count": 19,
   "id": "8105e8ce",
   "metadata": {
    "vscode": {
     "languageId": "r"
    }
   },
   "outputs": [
    {
     "data": {
      "text/html": [
       "<table class=\"dataframe\">\n",
       "<caption>A data.frame: 6 × 6</caption>\n",
       "<thead>\n",
       "\t<tr><th></th><th scope=col>filename</th><th scope=col>total_timesteps</th><th scope=col>gravity</th><th scope=col>wind_power</th><th scope=col>turbulence_power</th><th scope=col>lands</th></tr>\n",
       "\t<tr><th></th><th scope=col>&lt;chr&gt;</th><th scope=col>&lt;int&gt;</th><th scope=col>&lt;dbl&gt;</th><th scope=col>&lt;dbl&gt;</th><th scope=col>&lt;dbl&gt;</th><th scope=col>&lt;fct&gt;</th></tr>\n",
       "</thead>\n",
       "<tbody>\n",
       "\t<tr><th scope=row>1</th><td>experiment_0.csv </td><td>156</td><td>-10,363594</td><td> 9,555678</td><td>0,4416887</td><td>1</td></tr>\n",
       "\t<tr><th scope=row>2</th><td>experiment_3.csv </td><td>252</td><td> -2,599651</td><td> 7,094931</td><td>0,7720043</td><td>1</td></tr>\n",
       "\t<tr><th scope=row>3</th><td>experiment_8.csv </td><td>146</td><td>-10,768399</td><td> 5,744031</td><td>0,8987043</td><td>1</td></tr>\n",
       "\t<tr><th scope=row>4</th><td>experiment_10.csv</td><td>178</td><td> -7,815608</td><td>19,640269</td><td>1,6313483</td><td>1</td></tr>\n",
       "\t<tr><th scope=row>5</th><td>experiment_14.csv</td><td>193</td><td> -3,833533</td><td>11,007721</td><td>1,5779704</td><td>1</td></tr>\n",
       "\t<tr><th scope=row>6</th><td>experiment_19.csv</td><td>204</td><td> -3,464858</td><td> 0,000000</td><td>1,1071370</td><td>1</td></tr>\n",
       "</tbody>\n",
       "</table>\n"
      ],
      "text/latex": [
       "A data.frame: 6 × 6\n",
       "\\begin{tabular}{r|llllll}\n",
       "  & filename & total\\_timesteps & gravity & wind\\_power & turbulence\\_power & lands\\\\\n",
       "  & <chr> & <int> & <dbl> & <dbl> & <dbl> & <fct>\\\\\n",
       "\\hline\n",
       "\t1 & experiment\\_0.csv  & 156 & -10,363594 &  9,555678 & 0,4416887 & 1\\\\\n",
       "\t2 & experiment\\_3.csv  & 252 &  -2,599651 &  7,094931 & 0,7720043 & 1\\\\\n",
       "\t3 & experiment\\_8.csv  & 146 & -10,768399 &  5,744031 & 0,8987043 & 1\\\\\n",
       "\t4 & experiment\\_10.csv & 178 &  -7,815608 & 19,640269 & 1,6313483 & 1\\\\\n",
       "\t5 & experiment\\_14.csv & 193 &  -3,833533 & 11,007721 & 1,5779704 & 1\\\\\n",
       "\t6 & experiment\\_19.csv & 204 &  -3,464858 &  0,000000 & 1,1071370 & 1\\\\\n",
       "\\end{tabular}\n"
      ],
      "text/markdown": [
       "\n",
       "A data.frame: 6 × 6\n",
       "\n",
       "| <!--/--> | filename &lt;chr&gt; | total_timesteps &lt;int&gt; | gravity &lt;dbl&gt; | wind_power &lt;dbl&gt; | turbulence_power &lt;dbl&gt; | lands &lt;fct&gt; |\n",
       "|---|---|---|---|---|---|---|\n",
       "| 1 | experiment_0.csv  | 156 | -10,363594 |  9,555678 | 0,4416887 | 1 |\n",
       "| 2 | experiment_3.csv  | 252 |  -2,599651 |  7,094931 | 0,7720043 | 1 |\n",
       "| 3 | experiment_8.csv  | 146 | -10,768399 |  5,744031 | 0,8987043 | 1 |\n",
       "| 4 | experiment_10.csv | 178 |  -7,815608 | 19,640269 | 1,6313483 | 1 |\n",
       "| 5 | experiment_14.csv | 193 |  -3,833533 | 11,007721 | 1,5779704 | 1 |\n",
       "| 6 | experiment_19.csv | 204 |  -3,464858 |  0,000000 | 1,1071370 | 1 |\n",
       "\n"
      ],
      "text/plain": [
       "  filename          total_timesteps gravity    wind_power turbulence_power\n",
       "1 experiment_0.csv  156             -10,363594  9,555678  0,4416887       \n",
       "2 experiment_3.csv  252              -2,599651  7,094931  0,7720043       \n",
       "3 experiment_8.csv  146             -10,768399  5,744031  0,8987043       \n",
       "4 experiment_10.csv 178              -7,815608 19,640269  1,6313483       \n",
       "5 experiment_14.csv 193              -3,833533 11,007721  1,5779704       \n",
       "6 experiment_19.csv 204              -3,464858  0,000000  1,1071370       \n",
       "  lands\n",
       "1 1    \n",
       "2 1    \n",
       "3 1    \n",
       "4 1    \n",
       "5 1    \n",
       "6 1    "
      ]
     },
     "metadata": {},
     "output_type": "display_data"
    }
   ],
   "source": [
    "#Remove the duplicate index variable\n",
    "summarylandedtesting <- read.csv(file = \"data/CheckLandingV2test.csv\") %>%\n",
    "                        select(-X)\n",
    "\n",
    "summarylandedtesting$lands <- as.factor(summarylandedtesting$lands)\n",
    "\n",
    "head(summarylandedtesting)"
   ]
  },
  {
   "cell_type": "code",
   "execution_count": null,
   "id": "1dd62757-230e-4452-ace5-96ab471b1685",
   "metadata": {
    "vscode": {
     "languageId": "r"
    }
   },
   "outputs": [],
   "source": [
    "# how many in the testing set didn't land?\n",
    "length(which(summarylandedtesting$lands == 0))\n",
    "nrow(summarylandedtesting)"
   ]
  },
  {
   "cell_type": "code",
   "execution_count": null,
   "id": "713404f9",
   "metadata": {
    "vscode": {
     "languageId": "r"
    }
   },
   "outputs": [],
   "source": [
    "summarylandedbptesting <- summarylandedtesting\n",
    "levels(summarylandedbptesting$lands) <- c(\"Not Landed\", \"Landed\")\n",
    "\n",
    "ggplot(summarylandedbptesting) + aes(y = total_timesteps) +\n",
    "    geom_boxplot() + facet_wrap(.~lands) + theme_minimal() +\n",
    "    theme(legend.position = \"bottom\") +\n",
    "    labs(title = \"Length of the experiments in the testing set\", y = \"timesteps\")"
   ]
  },
  {
   "cell_type": "markdown",
   "id": "ddd6ce0e",
   "metadata": {},
   "source": [
    "Como podemos ver, la distribucion de ambos train and test sets para los timesteps, es muy parecida, por no decir idéntica, si la diferencia de experimentos entre uno y otro fuera menor. Los boxplots reflejan claramente como tanto los outliers como los no outliers son exactamente iguales en distribución en la comparacion entre training y testing, por lo que debemos tener mucho cuidado a la hora de borrar outliers."
   ]
  },
  {
   "cell_type": "markdown",
   "id": "0d2d3edc-eded-4bd4-9d69-62f3ac6e9a18",
   "metadata": {},
   "source": [
    "#### Efficiency distributed by landings"
   ]
  },
  {
   "cell_type": "code",
   "execution_count": null,
   "id": "28376716-6144-4d7f-8cc3-90ead6220364",
   "metadata": {
    "vscode": {
     "languageId": "r"
    }
   },
   "outputs": [],
   "source": [
    "ggplot(summarylandedbp) + aes(x = efficiency) + geom_histogram(bins = 120) + \n",
    "    facet_wrap(.~lands) + theme_minimal() +\n",
    "    theme(legend.position = \"bottom\") +\n",
    "    labs(title = \"Efficiency of the experiments\", y = \"count\")"
   ]
  },
  {
   "cell_type": "markdown",
   "id": "6d5924bc",
   "metadata": {},
   "source": [
    "#### Experimento 6\n",
    "Podemos notar algo extraño en el experimento 6, en el sentido de que tiene una buena marca de eficiencia, pero al parecer no aterriza. \n",
    "\n",
    "Vamos a utilizar la función de python `PlotExperiment` para analizar el experimento 6. Para poder usar código de python dentro de R necesitaremos la librería `reticiulate`."
   ]
  },
  {
   "cell_type": "code",
   "execution_count": null,
   "id": "23843fe4",
   "metadata": {
    "vscode": {
     "languageId": "r"
    }
   },
   "outputs": [],
   "source": [
    "if (!require(\"reticulate\")){\n",
    "    install.packages(\"reticulate\")\n",
    "    library(reticulate)\n",
    "} else {\n",
    "    library(reticulate)\n",
    "}"
   ]
  },
  {
   "cell_type": "code",
   "execution_count": null,
   "id": "4e6c1f13",
   "metadata": {
    "vscode": {
     "languageId": "r"
    }
   },
   "outputs": [],
   "source": [
    "py_run_string('import pandas as pd')\n",
    "py_run_string('from f7utils import smoothY_pos,plotExperiment')\n",
    "py_run_string('exp6 = smoothY_pos(pd.read_csv(\"data/train/experiment_6.csv\"))')\n",
    "py_run_string(\"plotExperiment(exp6)\")"
   ]
  },
  {
   "cell_type": "markdown",
   "id": "e3e16a36",
   "metadata": {},
   "source": [
    "Como podemos ver, deberíamos también analizar si un experimento ha aterrizado por el hecho de si se quedan ambas `y_vel` y `ang_vel` estables en 0"
   ]
  },
  {
   "cell_type": "code",
   "execution_count": 21,
   "id": "96a84bd1-aa1f-463b-bbab-54912e76da50",
   "metadata": {
    "vscode": {
     "languageId": "r"
    }
   },
   "outputs": [
    {
     "data": {
      "text/html": [
       "<table class=\"dataframe\">\n",
       "<caption>A data.frame: 6 × 10</caption>\n",
       "<thead>\n",
       "\t<tr><th></th><th scope=col>x_pos</th><th scope=col>y_pos</th><th scope=col>x_vel</th><th scope=col>y_vel</th><th scope=col>angle</th><th scope=col>ang_vel</th><th scope=col>leg_1</th><th scope=col>leg_2</th><th scope=col>main_booster</th><th scope=col>lat_booster</th></tr>\n",
       "\t<tr><th></th><th scope=col>&lt;dbl&gt;</th><th scope=col>&lt;dbl&gt;</th><th scope=col>&lt;dbl&gt;</th><th scope=col>&lt;dbl&gt;</th><th scope=col>&lt;dbl&gt;</th><th scope=col>&lt;dbl&gt;</th><th scope=col>&lt;dbl&gt;</th><th scope=col>&lt;dbl&gt;</th><th scope=col>&lt;dbl&gt;</th><th scope=col>&lt;dbl&gt;</th></tr>\n",
       "</thead>\n",
       "<tbody>\n",
       "\t<tr><th scope=row>168</th><td>-0,07802667</td><td>-0,0005106831</td><td> 6,959350e-08</td><td>-7,587821e-11</td><td>-0,005813542</td><td>-8,400928e-08</td><td>0</td><td>1</td><td>-0,9228973</td><td>-0,057367980</td></tr>\n",
       "\t<tr><th scope=row>169</th><td>-0,07802667</td><td>-0,0005106831</td><td> 1,582299e-08</td><td>-1,231156e-09</td><td>-0,005813544</td><td>-5,847227e-08</td><td>0</td><td>1</td><td>-0,9041787</td><td>-0,031219900</td></tr>\n",
       "\t<tr><th scope=row>170</th><td>-0,07802667</td><td>-0,0005106831</td><td>-3,847062e-08</td><td>-2,008729e-09</td><td>-0,005813538</td><td> 9,187677e-08</td><td>0</td><td>1</td><td>-0,8049090</td><td>-0,041426897</td></tr>\n",
       "\t<tr><th scope=row>171</th><td>-0,07802667</td><td>-0,0005106831</td><td>-4,967608e-08</td><td> 3,368851e-10</td><td>-0,005813533</td><td> 9,741294e-08</td><td>0</td><td>1</td><td>-0,9020065</td><td>-0,018550575</td></tr>\n",
       "\t<tr><th scope=row>172</th><td>-0,07802667</td><td>-0,0005106831</td><td>-4,119448e-08</td><td> 3,269379e-10</td><td>-0,005813526</td><td> 9,316055e-08</td><td>0</td><td>1</td><td>-0,9297094</td><td>-0,001113772</td></tr>\n",
       "\t<tr><th scope=row>173</th><td>-0,07802667</td><td>-0,0005106831</td><td> 0,000000e+00</td><td> 0,000000e+00</td><td>-0,005813521</td><td> 0,000000e+00</td><td>0</td><td>1</td><td>-0,9297094</td><td>-0,001113772</td></tr>\n",
       "</tbody>\n",
       "</table>\n"
      ],
      "text/latex": [
       "A data.frame: 6 × 10\n",
       "\\begin{tabular}{r|llllllllll}\n",
       "  & x\\_pos & y\\_pos & x\\_vel & y\\_vel & angle & ang\\_vel & leg\\_1 & leg\\_2 & main\\_booster & lat\\_booster\\\\\n",
       "  & <dbl> & <dbl> & <dbl> & <dbl> & <dbl> & <dbl> & <dbl> & <dbl> & <dbl> & <dbl>\\\\\n",
       "\\hline\n",
       "\t168 & -0,07802667 & -0,0005106831 &  6,959350e-08 & -7,587821e-11 & -0,005813542 & -8,400928e-08 & 0 & 1 & -0,9228973 & -0,057367980\\\\\n",
       "\t169 & -0,07802667 & -0,0005106831 &  1,582299e-08 & -1,231156e-09 & -0,005813544 & -5,847227e-08 & 0 & 1 & -0,9041787 & -0,031219900\\\\\n",
       "\t170 & -0,07802667 & -0,0005106831 & -3,847062e-08 & -2,008729e-09 & -0,005813538 &  9,187677e-08 & 0 & 1 & -0,8049090 & -0,041426897\\\\\n",
       "\t171 & -0,07802667 & -0,0005106831 & -4,967608e-08 &  3,368851e-10 & -0,005813533 &  9,741294e-08 & 0 & 1 & -0,9020065 & -0,018550575\\\\\n",
       "\t172 & -0,07802667 & -0,0005106831 & -4,119448e-08 &  3,269379e-10 & -0,005813526 &  9,316055e-08 & 0 & 1 & -0,9297094 & -0,001113772\\\\\n",
       "\t173 & -0,07802667 & -0,0005106831 &  0,000000e+00 &  0,000000e+00 & -0,005813521 &  0,000000e+00 & 0 & 1 & -0,9297094 & -0,001113772\\\\\n",
       "\\end{tabular}\n"
      ],
      "text/markdown": [
       "\n",
       "A data.frame: 6 × 10\n",
       "\n",
       "| <!--/--> | x_pos &lt;dbl&gt; | y_pos &lt;dbl&gt; | x_vel &lt;dbl&gt; | y_vel &lt;dbl&gt; | angle &lt;dbl&gt; | ang_vel &lt;dbl&gt; | leg_1 &lt;dbl&gt; | leg_2 &lt;dbl&gt; | main_booster &lt;dbl&gt; | lat_booster &lt;dbl&gt; |\n",
       "|---|---|---|---|---|---|---|---|---|---|---|\n",
       "| 168 | -0,07802667 | -0,0005106831 |  6,959350e-08 | -7,587821e-11 | -0,005813542 | -8,400928e-08 | 0 | 1 | -0,9228973 | -0,057367980 |\n",
       "| 169 | -0,07802667 | -0,0005106831 |  1,582299e-08 | -1,231156e-09 | -0,005813544 | -5,847227e-08 | 0 | 1 | -0,9041787 | -0,031219900 |\n",
       "| 170 | -0,07802667 | -0,0005106831 | -3,847062e-08 | -2,008729e-09 | -0,005813538 |  9,187677e-08 | 0 | 1 | -0,8049090 | -0,041426897 |\n",
       "| 171 | -0,07802667 | -0,0005106831 | -4,967608e-08 |  3,368851e-10 | -0,005813533 |  9,741294e-08 | 0 | 1 | -0,9020065 | -0,018550575 |\n",
       "| 172 | -0,07802667 | -0,0005106831 | -4,119448e-08 |  3,269379e-10 | -0,005813526 |  9,316055e-08 | 0 | 1 | -0,9297094 | -0,001113772 |\n",
       "| 173 | -0,07802667 | -0,0005106831 |  0,000000e+00 |  0,000000e+00 | -0,005813521 |  0,000000e+00 | 0 | 1 | -0,9297094 | -0,001113772 |\n",
       "\n"
      ],
      "text/plain": [
       "    x_pos       y_pos         x_vel         y_vel         angle       \n",
       "168 -0,07802667 -0,0005106831  6,959350e-08 -7,587821e-11 -0,005813542\n",
       "169 -0,07802667 -0,0005106831  1,582299e-08 -1,231156e-09 -0,005813544\n",
       "170 -0,07802667 -0,0005106831 -3,847062e-08 -2,008729e-09 -0,005813538\n",
       "171 -0,07802667 -0,0005106831 -4,967608e-08  3,368851e-10 -0,005813533\n",
       "172 -0,07802667 -0,0005106831 -4,119448e-08  3,269379e-10 -0,005813526\n",
       "173 -0,07802667 -0,0005106831  0,000000e+00  0,000000e+00 -0,005813521\n",
       "    ang_vel       leg_1 leg_2 main_booster lat_booster \n",
       "168 -8,400928e-08 0     1     -0,9228973   -0,057367980\n",
       "169 -5,847227e-08 0     1     -0,9041787   -0,031219900\n",
       "170  9,187677e-08 0     1     -0,8049090   -0,041426897\n",
       "171  9,741294e-08 0     1     -0,9020065   -0,018550575\n",
       "172  9,316055e-08 0     1     -0,9297094   -0,001113772\n",
       "173  0,000000e+00 0     1     -0,9297094   -0,001113772"
      ]
     },
     "metadata": {},
     "output_type": "display_data"
    }
   ],
   "source": [
    "exp6 = read.csv(file = \"data/train/experiment_6.csv\")\n",
    "tail(exp6)"
   ]
  },
  {
   "cell_type": "markdown",
   "id": "a03b6066",
   "metadata": {},
   "source": [
    "## Linear regressions\n",
    "To test the significance of the variables:"
   ]
  },
  {
   "cell_type": "code",
   "execution_count": 34,
   "id": "323be8c8",
   "metadata": {
    "vscode": {
     "languageId": "r"
    }
   },
   "outputs": [],
   "source": [
    "summarylandedlm <- summarylanded %>% select(-filename)\n",
    "\n",
    "mod1 <- lm(data = summarylandedlm, efficiency ~ (.)^2)\n",
    "\n",
    "# modGood <- lm(data = summarylandedlm,\n",
    "#               efficiency ~ total_timesteps + \n",
    "#               wind_power + lands +\n",
    "#               total_timesteps * gravity + total_timesteps * wind_power +\n",
    "#               total_timesteps * turbulence_power + total_timesteps * lands +\n",
    "#               gravity * lands + wind_power * wind_power*lands + turbulence_power*lands\n",
    "# )"
   ]
  },
  {
   "cell_type": "code",
   "execution_count": 33,
   "id": "730e46d1",
   "metadata": {
    "vscode": {
     "languageId": "r"
    }
   },
   "outputs": [
    {
     "name": "stderr",
     "output_type": "stream",
     "text": [
      "Warning message in printCoefmat(coefs, digits = digits, signif.stars = signif.stars, :\n",
      "“NAs introduced by coercion”\n"
     ]
    },
    {
     "data": {
      "text/plain": [
       "\n",
       "Call:\n",
       "lm(formula = efficiency ~ (. - finalAng_velMean)^2, data = summarylandedlm)\n",
       "\n",
       "Residuals:\n",
       "    Min      1Q  Median      3Q     Max \n",
       "-651,14   -2,24    2,56    7,13  686,17 \n",
       "\n",
       "Coefficients: (2 not defined because of singularities)\n",
       "                                   Estimate Std. Error t value Pr(>|t|)    \n",
       "(Intercept)                       3,444e+02  9,379e+02   0,367  0,71349    \n",
       "total_timesteps                  -9,811e-01  3,641e-01  -2,694  0,00706 ** \n",
       "gravity                          -7,248e+01  5,161e+01  -1,404  0,16020    \n",
       "wind_power                        1,006e+02  1,891e+01   5,324 1,04e-07 ***\n",
       "turbulence_power                  9,202e+02  1,896e+02   4,854 1,23e-06 ***\n",
       "lands1                            1,205e+02  9,352e+02   0,129  0,89751    \n",
       "landingPerc                      -2,445e+01  9,488e+02  -0,026  0,97945    \n",
       "nbounces                          9,816e+00  4,963e+00   1,978  0,04797 *  \n",
       "angVelMean                       -7,030e+03  2,491e+03  -2,821  0,00479 ** \n",
       "angVelVar                        -4,817e+03  9,297e+02  -5,181 2,25e-07 ***\n",
       "finalYmean                        5,917e+02  3,552e+03   0,167  0,86770    \n",
       "finalYvelMean                    -1,483e+04  1,224e+03 -12,116  < 2e-16 ***\n",
       "mBoosterMean                      3,216e+03  1,053e+03   3,053  0,00227 ** \n",
       "mBoosterVar                      -6,321e+03  2,113e+03  -2,992  0,00278 ** \n",
       "total_timesteps:gravity          -3,890e-03  4,489e-03  -0,867  0,38617    \n",
       "total_timesteps:wind_power        1,038e-02  1,647e-03   6,300 3,10e-10 ***\n",
       "total_timesteps:turbulence_power  8,639e-02  1,704e-02   5,071 4,03e-07 ***\n",
       "total_timesteps:lands1            7,815e-01  3,459e-01   2,260  0,02386 *  \n",
       "total_timesteps:landingPerc       8,102e-01  3,519e-01   2,303  0,02132 *  \n",
       "total_timesteps:nbounces          1,914e-03  1,543e-02   0,124  0,90127    \n",
       "total_timesteps:angVelMean        1,031e+00  3,910e-02  26,381  < 2e-16 ***\n",
       "total_timesteps:angVelVar        -1,001e+00  2,018e-02 -49,613  < 2e-16 ***\n",
       "total_timesteps:finalYmean        8,480e-03  2,599e-02   0,326  0,74425    \n",
       "total_timesteps:finalYvelMean    -2,338e-01  4,994e-02  -4,681 2,90e-06 ***\n",
       "total_timesteps:mBoosterMean      1,899e-01  8,475e-02   2,241  0,02504 *  \n",
       "total_timesteps:mBoosterVar      -4,372e-01  1,851e-01  -2,362  0,01822 *  \n",
       "gravity:wind_power               -5,358e-02  2,841e-02  -1,886  0,05936 .  \n",
       "gravity:turbulence_power          1,426e-01  2,998e-01   0,476  0,63439    \n",
       "gravity:lands1                    7,272e+01  5,136e+01   1,416  0,15685    \n",
       "gravity:landingPerc               7,600e+01  5,194e+01   1,463  0,14347    \n",
       "gravity:nbounces                 -4,737e-01  2,992e-01  -1,583  0,11343    \n",
       "gravity:angVelMean               -3,428e+01  1,818e+00 -18,857  < 2e-16 ***\n",
       "gravity:angVelVar                 2,258e+01  1,631e+00  13,845  < 2e-16 ***\n",
       "gravity:finalYmean               -1,267e+01  2,429e+00  -5,215 1,88e-07 ***\n",
       "gravity:finalYvelMean             2,769e+00  1,080e+00   2,563  0,01039 *  \n",
       "gravity:mBoosterMean             -1,582e+00  1,096e+00  -1,444  0,14889    \n",
       "gravity:mBoosterVar              -3,018e+00  2,048e+00  -1,474  0,14052    \n",
       "wind_power:turbulence_power      -3,064e-02  1,356e-01  -0,226  0,82129    \n",
       "wind_power:lands1                -1,020e+02  1,887e+01  -5,408 6,53e-08 ***\n",
       "wind_power:landingPerc           -1,053e+02  1,929e+01  -5,460 4,89e-08 ***\n",
       "wind_power:nbounces              -6,243e-02  1,190e-01  -0,525  0,59988    \n",
       "wind_power:angVelMean             9,251e+00  8,161e-01  11,336  < 2e-16 ***\n",
       "wind_power:angVelVar             -9,595e-02  5,983e-01  -0,160  0,87258    \n",
       "wind_power:finalYmean             8,729e-02  3,617e-01   0,241  0,80933    \n",
       "wind_power:finalYvelMean          9,015e-02  6,259e-01   0,144  0,88547    \n",
       "wind_power:mBoosterMean          -1,111e+00  5,837e-01  -1,904  0,05697 .  \n",
       "wind_power:mBoosterVar            1,568e+00  1,071e+00   1,463  0,14347    \n",
       "turbulence_power:lands1          -9,196e+02  1,893e+02  -4,859 1,20e-06 ***\n",
       "turbulence_power:landingPerc     -9,675e+02  1,939e+02  -4,989 6,18e-07 ***\n",
       "turbulence_power:nbounces         4,249e-01  1,325e+00   0,321  0,74853    \n",
       "turbulence_power:angVelMean       2,080e+01  7,307e+00   2,846  0,00444 ** \n",
       "turbulence_power:angVelVar       -1,993e+01  4,946e+00  -4,030 5,63e-05 ***\n",
       "turbulence_power:finalYmean       2,269e+01  4,168e+00   5,443 5,36e-08 ***\n",
       "turbulence_power:finalYvelMean    2,587e+01  7,169e+00   3,608  0,00031 ***\n",
       "turbulence_power:mBoosterMean     7,558e+00  6,207e+00   1,218  0,22342    \n",
       "turbulence_power:mBoosterVar      3,043e+00  1,187e+01   0,256  0,79767    \n",
       "lands1:landingPerc                       NA         NA      NA       NA    \n",
       "lands1:nbounces                          NA         NA      NA       NA    \n",
       "lands1:angVelMean                 6,807e+03  2,450e+03   2,778  0,00547 ** \n",
       "lands1:angVelVar                  5,010e+03  9,146e+02   5,477 4,43e-08 ***\n",
       "lands1:finalYmean                -9,882e+02  3,465e+03  -0,285  0,77548    \n",
       "lands1:finalYvelMean              1,489e+04  1,211e+03  12,296  < 2e-16 ***\n",
       "lands1:mBoosterMean              -3,197e+03  1,049e+03  -3,048  0,00231 ** \n",
       "lands1:mBoosterVar                6,225e+03  2,106e+03   2,956  0,00313 ** \n",
       "landingPerc:nbounces              1,566e+01  1,544e+02   0,101  0,91924    \n",
       "landingPerc:angVelMean            6,993e+03  2,493e+03   2,805  0,00505 ** \n",
       "landingPerc:angVelVar             4,999e+03  9,302e+02   5,374 7,89e-08 ***\n",
       "landingPerc:finalYmean           -6,883e+02  3,553e+03  -0,194  0,84639    \n",
       "landingPerc:finalYvelMean         1,496e+04  1,226e+03  12,201  < 2e-16 ***\n",
       "landingPerc:mBoosterMean         -3,246e+03  1,066e+03  -3,046  0,00233 ** \n",
       "landingPerc:mBoosterVar           6,399e+03  2,135e+03   2,997  0,00273 ** \n",
       "nbounces:angVelMean              -3,558e+00  3,836e+01  -0,093  0,92612    \n",
       "nbounces:angVelVar                2,111e+00  1,826e+01   0,116  0,90795    \n",
       "nbounces:finalYmean               2,884e+02  9,007e+01   3,202  0,00137 ** \n",
       "nbounces:finalYvelMean            1,512e+02  2,959e+01   5,111 3,27e-07 ***\n",
       "nbounces:mBoosterMean             1,042e+01  5,899e+00   1,766  0,07742 .  \n",
       "nbounces:mBoosterVar             -3,687e+01  1,175e+01  -3,137  0,00171 ** \n",
       "angVelMean:angVelVar             -6,491e+01  4,109e+00 -15,798  < 2e-16 ***\n",
       "angVelMean:finalYmean             8,475e+01  1,846e+01   4,591 4,47e-06 ***\n",
       "angVelMean:finalYvelMean         -2,914e+02  1,284e+01 -22,691  < 2e-16 ***\n",
       "angVelMean:mBoosterMean          -2,493e+02  3,542e+01  -7,039 2,07e-12 ***\n",
       "angVelMean:mBoosterVar           -1,784e+03  7,909e+01 -22,553  < 2e-16 ***\n",
       "angVelVar:finalYmean             -1,937e+02  1,060e+01 -18,272  < 2e-16 ***\n",
       "angVelVar:finalYvelMean           2,951e+02  1,014e+01  29,095  < 2e-16 ***\n",
       "angVelVar:mBoosterMean            3,466e+02  2,492e+01  13,906  < 2e-16 ***\n",
       "angVelVar:mBoosterVar             1,255e+02  5,509e+01   2,278  0,02273 *  \n",
       "finalYmean:finalYvelMean         -6,216e+01  9,404e+00  -6,610 4,05e-11 ***\n",
       "finalYmean:mBoosterMean          -2,599e+00  2,492e+01  -0,104  0,91695    \n",
       "finalYmean:mBoosterVar           -9,454e+01  3,680e+01  -2,569  0,01022 *  \n",
       "finalYvelMean:mBoosterMean       -8,585e+01  2,136e+01  -4,019 5,89e-05 ***\n",
       "finalYvelMean:mBoosterVar        -1,721e+02  4,415e+01  -3,897 9,80e-05 ***\n",
       "mBoosterMean:mBoosterVar         -1,226e+02  4,499e+01  -2,724  0,00645 ** \n",
       "---\n",
       "Signif. codes:  0 ‘***’ 0,001 ‘**’ 0,01 ‘*’ 0,05 ‘.’ 0,1 ‘ ’ 1\n",
       "\n",
       "Residual standard error: 44,49 on 9423 degrees of freedom\n",
       "Multiple R-squared:  0,9516,\tAdjusted R-squared:  0,9511 \n",
       "F-statistic:  2080 on 89 and 9423 DF,  p-value: < 2,2e-16\n"
      ]
     },
     "metadata": {},
     "output_type": "display_data"
    }
   ],
   "source": [
    "summary(mod1)"
   ]
  },
  {
   "cell_type": "markdown",
   "id": "17e64f32-9d53-47c5-a89a-bce7f3504f14",
   "metadata": {
    "vscode": {
     "languageId": "r"
    }
   },
   "source": [
    "```python\n",
    "def stdXdeviation(exp: pd.DataFrame) -> float:\n",
    "    var = sum(exp.x_pos**2)/(exp.shape[0]-1)\n",
    "    return np.sqrt(var)\n",
    "```"
   ]
  }
 ],
 "metadata": {
  "interpreter": {
   "hash": "e7370f93d1d0cde622a1f8e1c04877d8463912d04d973331ad4851f04de6915a"
  },
  "kernelspec": {
   "display_name": "R",
   "language": "R",
   "name": "ir"
  },
  "language_info": {
   "codemirror_mode": "r",
   "file_extension": ".r",
   "mimetype": "text/x-r-source",
   "name": "R",
   "pygments_lexer": "r",
   "version": "4.1.3"
  }
 },
 "nbformat": 4,
 "nbformat_minor": 5
}
