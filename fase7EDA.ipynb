{
 "cells": [
  {
   "cell_type": "markdown",
   "id": "0a74cc4d",
   "metadata": {},
   "source": [
    "# Fase 7 EDR: EDA\n",
    "\n",
    "### Experimentos fallidos (no atterizan)\n",
    "\n",
    "\n",
    "---\n",
    "\n",
    "### Exploración de distribuciones\n",
    "\n",
    "#### Longitud de los experimentos\n",
    "Para poder evaluar esto, tenemos que ver los boxplots the cada uno de los experimentos, y sería buena idea que los separasemos por si son capaces de aterrizar o no.\n",
    "Vamos a sacar si han aterrizado o no usando `fileAggregator.py` y la función `expLanded` de `f5utils.py`."
   ]
  }
 ],
 "metadata": {
  "kernelspec": {
   "display_name": "R",
   "language": "R",
   "name": "ir"
  },
  "language_info": {
   "codemirror_mode": "r",
   "file_extension": ".r",
   "mimetype": "text/x-r-source",
   "name": "R",
   "pygments_lexer": "r",
   "version": "4.1.3"
  }
 },
 "nbformat": 4,
 "nbformat_minor": 5
}
