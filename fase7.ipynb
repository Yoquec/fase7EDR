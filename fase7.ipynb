{
 "cells": [
  {
   "cell_type": "markdown",
   "id": "1b9324ca",
   "metadata": {},
   "source": [
    "# Fase 7 EDR\n",
    "\n",
    "Los datos **no son una tabla agregada**. Si ves el archivo *summary* de test y train, es parte de las variables, y un csv. Ese csv contiene lo que parece ser una serie temporal con datos sobre el el estado del aterrizaje en cada instante de tiempo.\n",
    "\n",
    "## Origen de los datos (QUITAR AL ENTREGAR NO SEAMOS GILIPOLLAS)\n",
    "Donde se han simulado los datos:\n",
    ">https://github.com/huggingface/deep-rl-class/tree/main/unit1"
   ]
  },
  {
   "cell_type": "code",
   "execution_count": 2,
   "id": "05018689",
   "metadata": {},
   "outputs": [],
   "source": [
    "import numpy as np\n",
    "import matplotlib.pyplot as plt\n",
    "from typing import List, TypeVar, NewType, Tuple\n",
    "\n",
    "# Creaate the np array type without the nptyping library\n",
    "NDArray = NewType(\"NDArray\", np.ndarray)"
   ]
  },
  {
   "cell_type": "markdown",
   "id": "24664028",
   "metadata": {},
   "source": [
    "## EDA\n",
    "Exploraremos primero uno de los CSV"
   ]
  },
  {
   "cell_type": "code",
   "execution_count": 1,
   "id": "c4a854ea",
   "metadata": {},
   "outputs": [
    {
     "ename": "NameError",
     "evalue": "name 'read' is not defined",
     "output_type": "error",
     "traceback": [
      "\u001b[0;31m---------------------------------------------------------------------------\u001b[0m",
      "\u001b[0;31mNameError\u001b[0m                                 Traceback (most recent call last)",
      "\u001b[1;32m/home/yoquec/code/Comps/Data scape room/fase7/fase7.ipynb Cell 4'\u001b[0m in \u001b[0;36m<cell line: 1>\u001b[0;34m()\u001b[0m\n\u001b[0;32m----> <a href='vscode-notebook-cell:/home/yoquec/code/Comps/Data%20scape%20room/fase7/fase7.ipynb#ch0000003?line=0'>1</a>\u001b[0m exp1 \u001b[39m=\u001b[39m read\u001b[39m.\u001b[39mcsv(\u001b[39m'\u001b[39m\u001b[39mtrain/experiment_1.csv\u001b[39m\u001b[39m'\u001b[39m, header \u001b[39m=\u001b[39m TRUE, stringsAsFactors \u001b[39m=\u001b[39m FALSE)\n\u001b[1;32m      <a href='vscode-notebook-cell:/home/yoquec/code/Comps/Data%20scape%20room/fase7/fase7.ipynb#ch0000003?line=1'>2</a>\u001b[0m colnames(exp1)\n",
      "\u001b[0;31mNameError\u001b[0m: name 'read' is not defined"
     ]
    }
   ],
   "source": [
    "exp1 = read.csv('train/experiment_1.csv', header = TRUE, stringsAsFactors = FALSE)\n",
    "colnames(exp1)"
   ]
  },
  {
   "cell_type": "markdown",
   "id": "d4c7e87b",
   "metadata": {},
   "source": [
    "Hay dos variables *leg_1* y *leg_2*"
   ]
  },
  {
   "cell_type": "code",
   "execution_count": 8,
   "id": "6fff0ada",
   "metadata": {},
   "outputs": [
    {
     "data": {
      "text/html": [
       "<table class=\"dataframe\">\n",
       "<caption>A data.frame: 6 × 10</caption>\n",
       "<thead>\n",
       "\t<tr><th></th><th scope=col>x_pos</th><th scope=col>y_pos</th><th scope=col>x_vel</th><th scope=col>y_vel</th><th scope=col>angle</th><th scope=col>ang_vel</th><th scope=col>leg_1</th><th scope=col>leg_2</th><th scope=col>main_booster</th><th scope=col>lat_booster</th></tr>\n",
       "\t<tr><th></th><th scope=col>&lt;dbl&gt;</th><th scope=col>&lt;dbl&gt;</th><th scope=col>&lt;dbl&gt;</th><th scope=col>&lt;dbl&gt;</th><th scope=col>&lt;dbl&gt;</th><th scope=col>&lt;dbl&gt;</th><th scope=col>&lt;dbl&gt;</th><th scope=col>&lt;dbl&gt;</th><th scope=col>&lt;dbl&gt;</th><th scope=col>&lt;dbl&gt;</th></tr>\n",
       "</thead>\n",
       "<tbody>\n",
       "\t<tr><th scope=row>1</th><td>-0.001548481</td><td>1.403302</td><td>-0.1571687</td><td>-0.3385856</td><td> 0.002068313</td><td> 0.040822409</td><td>0</td><td>0</td><td>-0.3271871</td><td>0.4818954</td></tr>\n",
       "\t<tr><th scope=row>2</th><td>-0.003123570</td><td>1.395385</td><td>-0.1598507</td><td>-0.3518934</td><td> 0.004395161</td><td> 0.046542075</td><td>0</td><td>0</td><td>-0.3413373</td><td>0.9353603</td></tr>\n",
       "\t<tr><th scope=row>3</th><td>-0.004636097</td><td>1.387138</td><td>-0.1516633</td><td>-0.3665214</td><td> 0.004803278</td><td> 0.008163137</td><td>0</td><td>0</td><td> 0.2652171</td><td>0.8930264</td></tr>\n",
       "\t<tr><th scope=row>4</th><td>-0.006213665</td><td>1.379139</td><td>-0.1566717</td><td>-0.3554864</td><td> 0.003727713</td><td>-0.021513410</td><td>0</td><td>0</td><td>-0.2147426</td><td>0.5778813</td></tr>\n",
       "\t<tr><th scope=row>5</th><td>-0.007765579</td><td>1.370820</td><td>-0.1531046</td><td>-0.3697289</td><td> 0.001665263</td><td>-0.041253034</td><td>0</td><td>0</td><td>-0.1511917</td><td>0.5312686</td></tr>\n",
       "\t<tr><th scope=row>6</th><td>-0.009296703</td><td>1.362178</td><td>-0.1501590</td><td>-0.3840890</td><td>-0.001259070</td><td>-0.058491953</td><td>0</td><td>0</td><td>-0.4147751</td><td>0.6225755</td></tr>\n",
       "</tbody>\n",
       "</table>\n"
      ],
      "text/latex": [
       "A data.frame: 6 × 10\n",
       "\\begin{tabular}{r|llllllllll}\n",
       "  & x\\_pos & y\\_pos & x\\_vel & y\\_vel & angle & ang\\_vel & leg\\_1 & leg\\_2 & main\\_booster & lat\\_booster\\\\\n",
       "  & <dbl> & <dbl> & <dbl> & <dbl> & <dbl> & <dbl> & <dbl> & <dbl> & <dbl> & <dbl>\\\\\n",
       "\\hline\n",
       "\t1 & -0.001548481 & 1.403302 & -0.1571687 & -0.3385856 &  0.002068313 &  0.040822409 & 0 & 0 & -0.3271871 & 0.4818954\\\\\n",
       "\t2 & -0.003123570 & 1.395385 & -0.1598507 & -0.3518934 &  0.004395161 &  0.046542075 & 0 & 0 & -0.3413373 & 0.9353603\\\\\n",
       "\t3 & -0.004636097 & 1.387138 & -0.1516633 & -0.3665214 &  0.004803278 &  0.008163137 & 0 & 0 &  0.2652171 & 0.8930264\\\\\n",
       "\t4 & -0.006213665 & 1.379139 & -0.1566717 & -0.3554864 &  0.003727713 & -0.021513410 & 0 & 0 & -0.2147426 & 0.5778813\\\\\n",
       "\t5 & -0.007765579 & 1.370820 & -0.1531046 & -0.3697289 &  0.001665263 & -0.041253034 & 0 & 0 & -0.1511917 & 0.5312686\\\\\n",
       "\t6 & -0.009296703 & 1.362178 & -0.1501590 & -0.3840890 & -0.001259070 & -0.058491953 & 0 & 0 & -0.4147751 & 0.6225755\\\\\n",
       "\\end{tabular}\n"
      ],
      "text/markdown": [
       "\n",
       "A data.frame: 6 × 10\n",
       "\n",
       "| <!--/--> | x_pos &lt;dbl&gt; | y_pos &lt;dbl&gt; | x_vel &lt;dbl&gt; | y_vel &lt;dbl&gt; | angle &lt;dbl&gt; | ang_vel &lt;dbl&gt; | leg_1 &lt;dbl&gt; | leg_2 &lt;dbl&gt; | main_booster &lt;dbl&gt; | lat_booster &lt;dbl&gt; |\n",
       "|---|---|---|---|---|---|---|---|---|---|---|\n",
       "| 1 | -0.001548481 | 1.403302 | -0.1571687 | -0.3385856 |  0.002068313 |  0.040822409 | 0 | 0 | -0.3271871 | 0.4818954 |\n",
       "| 2 | -0.003123570 | 1.395385 | -0.1598507 | -0.3518934 |  0.004395161 |  0.046542075 | 0 | 0 | -0.3413373 | 0.9353603 |\n",
       "| 3 | -0.004636097 | 1.387138 | -0.1516633 | -0.3665214 |  0.004803278 |  0.008163137 | 0 | 0 |  0.2652171 | 0.8930264 |\n",
       "| 4 | -0.006213665 | 1.379139 | -0.1566717 | -0.3554864 |  0.003727713 | -0.021513410 | 0 | 0 | -0.2147426 | 0.5778813 |\n",
       "| 5 | -0.007765579 | 1.370820 | -0.1531046 | -0.3697289 |  0.001665263 | -0.041253034 | 0 | 0 | -0.1511917 | 0.5312686 |\n",
       "| 6 | -0.009296703 | 1.362178 | -0.1501590 | -0.3840890 | -0.001259070 | -0.058491953 | 0 | 0 | -0.4147751 | 0.6225755 |\n",
       "\n"
      ],
      "text/plain": [
       "  x_pos        y_pos    x_vel      y_vel      angle        ang_vel      leg_1\n",
       "1 -0.001548481 1.403302 -0.1571687 -0.3385856  0.002068313  0.040822409 0    \n",
       "2 -0.003123570 1.395385 -0.1598507 -0.3518934  0.004395161  0.046542075 0    \n",
       "3 -0.004636097 1.387138 -0.1516633 -0.3665214  0.004803278  0.008163137 0    \n",
       "4 -0.006213665 1.379139 -0.1566717 -0.3554864  0.003727713 -0.021513410 0    \n",
       "5 -0.007765579 1.370820 -0.1531046 -0.3697289  0.001665263 -0.041253034 0    \n",
       "6 -0.009296703 1.362178 -0.1501590 -0.3840890 -0.001259070 -0.058491953 0    \n",
       "  leg_2 main_booster lat_booster\n",
       "1 0     -0.3271871   0.4818954  \n",
       "2 0     -0.3413373   0.9353603  \n",
       "3 0      0.2652171   0.8930264  \n",
       "4 0     -0.2147426   0.5778813  \n",
       "5 0     -0.1511917   0.5312686  \n",
       "6 0     -0.4147751   0.6225755  "
      ]
     },
     "metadata": {},
     "output_type": "display_data"
    }
   ],
   "source": [
    "head(exp1)"
   ]
  },
  {
   "cell_type": "code",
   "execution_count": 9,
   "id": "61ea00ab",
   "metadata": {},
   "outputs": [
    {
     "data": {
      "text/plain": [
       "Length  Class   Mode \n",
       "     0   NULL   NULL "
      ]
     },
     "metadata": {},
     "output_type": "display_data"
    }
   ],
   "source": [
    "summary(exp1$leg1)"
   ]
  },
  {
   "cell_type": "code",
   "execution_count": 6,
   "id": "eca92662",
   "metadata": {},
   "outputs": [
    {
     "name": "stderr",
     "output_type": "stream",
     "text": [
      "ERROR while rich displaying an object: \u001b[1m\u001b[33mError\u001b[39m in \u001b[1m\u001b[1m`check_required_aesthetics()`:\u001b[22m\n",
      "\u001b[33m!\u001b[39m geom_line requires the following missing aesthetics: y\n",
      "\n",
      "Traceback:\n",
      "1. tryCatch(withCallingHandlers({\n",
      " .     if (!mime %in% names(repr::mime2repr)) \n",
      " .         stop(\"No repr_* for mimetype \", mime, \" in repr::mime2repr\")\n",
      " .     rpr <- repr::mime2repr[[mime]](obj)\n",
      " .     if (is.null(rpr)) \n",
      " .         return(NULL)\n",
      " .     prepare_content(is.raw(rpr), rpr)\n",
      " . }, error = error_handler), error = outer_handler)\n",
      "2. tryCatchList(expr, classes, parentenv, handlers)\n",
      "3. tryCatchOne(expr, names, parentenv, handlers[[1L]])\n",
      "4. doTryCatch(return(expr), name, parentenv, handler)\n",
      "5. withCallingHandlers({\n",
      " .     if (!mime %in% names(repr::mime2repr)) \n",
      " .         stop(\"No repr_* for mimetype \", mime, \" in repr::mime2repr\")\n",
      " .     rpr <- repr::mime2repr[[mime]](obj)\n",
      " .     if (is.null(rpr)) \n",
      " .         return(NULL)\n",
      " .     prepare_content(is.raw(rpr), rpr)\n",
      " . }, error = error_handler)\n",
      "6. repr::mime2repr[[mime]](obj)\n",
      "7. repr_text.default(obj)\n",
      "8. paste(capture.output(print(obj)), collapse = \"\\n\")\n",
      "9. capture.output(print(obj))\n",
      "10. withVisible(...elt(i))\n",
      "11. print(obj)\n",
      "12. print.ggplot(obj)\n",
      "13. ggplot_build(x)\n",
      "14. ggplot_build.ggplot(x)\n",
      "15. by_layer(function(l, d) l$compute_geom_1(d))\n",
      "16. f(l = layers[[i]], d = data[[i]])\n",
      "17. l$compute_geom_1(d)\n",
      "18. f(..., self = self)\n",
      "19. check_required_aesthetics(self$geom$required_aes, c(names(data), \n",
      "  .     names(self$aes_params)), snake_class(self$geom))\n",
      "20. abort(glue(\"{name} requires the following missing aesthetics: \", \n",
      "  .     glue_collapse(lapply(missing_aes, glue_collapse, sep = \", \", \n",
      "  .         last = \" and \"), sep = \" or \")))\n",
      "21. signal_abort(cnd, .file)\n"
     ]
    },
    {
     "data": {
      "image/png": "[encoded data removed]",
      "text/plain": [
       "plot without title"
      ]
     },
     "metadata": {
      "image/png": {
       "height": 420,
       "width": 420
      }
     },
     "output_type": "display_data"
    }
   ],
   "source": [
    "ggplot(exp1) + aes(y_pos) + geom_line()"
   ]
  },
  {
   "cell_type": "code",
   "execution_count": 7,
   "id": "006ffd20",
   "metadata": {},
   "outputs": [
    {
     "data": {
      "text/html": [
       "186"
      ],
      "text/latex": [
       "186"
      ],
      "text/markdown": [
       "186"
      ],
      "text/plain": [
       "[1] 186"
      ]
     },
     "metadata": {},
     "output_type": "display_data"
    }
   ],
   "source": [
    "nrow(exp1)"
   ]
  }
 ],
 "metadata": {
  "interpreter": {
   "hash": "e7370f93d1d0cde622a1f8e1c04877d8463912d04d973331ad4851f04de6915a"
  },
  "kernelspec": {
   "display_name": "Python 3.10.5 64-bit",
   "language": "python",
   "name": "python3"
  },
  "language_info": {
   "codemirror_mode": {
    "name": "ipython",
    "version": 3
   },
   "file_extension": ".py",
   "mimetype": "text/x-python",
   "name": "python",
   "nbconvert_exporter": "python",
   "pygments_lexer": "ipython3",
   "version": "3.10.5"
  }
 },
 "nbformat": 4,
 "nbformat_minor": 5
}
